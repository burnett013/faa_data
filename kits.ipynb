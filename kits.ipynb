{
 "cells": [
  {
   "cell_type": "code",
   "execution_count": null,
   "metadata": {},
   "outputs": [
    {
     "name": "stderr",
     "output_type": "stream",
     "text": [
      "Exception ignored in: <function ZipFile.__del__ at 0x104cfa700>\n",
      "Traceback (most recent call last):\n",
      "  File \"/Library/Frameworks/Python.framework/Versions/3.12/lib/python3.12/zipfile/__init__.py\", line 1940, in __del__\n",
      "    self.close()\n",
      "  File \"/Library/Frameworks/Python.framework/Versions/3.12/lib/python3.12/zipfile/__init__.py\", line 1957, in close\n",
      "    self.fp.seek(self.start_dir)\n",
      "TimeoutError: [Errno 60] Operation timed out\n"
     ]
    },
    {
     "data": {
      "text/plain": [
       "Index(['N-NUMBER', 'SERIAL NUMBER', 'MFR MDL CODE', 'MFR', 'MODEL',\n",
       "       'TYPE-ACFT', 'NO-SEATS', 'AC-WEIGHT', 'SPEED', 'YEAR MFR', 'TYPE-ENG',\n",
       "       'AC-CAT', 'NO-ENG', 'ENG MFR MDL', 'TYPE REGISTRANT', 'NAME', 'STREET',\n",
       "       'STREET2', 'CITY', 'STATE', 'ZIP_MIN', 'REGION', 'COUNTY', 'COUNTRY',\n",
       "       'LAST ACTION DATE', 'CERT ISSUE DATE', 'CERTIFICATION', 'TYPE AIRCRAFT',\n",
       "       'STATUS CODE', 'MODE S CODE', 'FRACT OWNER', 'AIR WORTH DATE',\n",
       "       'OTHER NAMES(1)', 'OTHER NAMES(2)', 'OTHER NAMES(3)', 'OTHER NAMES(4)',\n",
       "       'OTHER NAMES(5)', 'EXPIRATION DATE', 'UNIQUE ID', 'KITMFG', 'KITMDL',\n",
       "       'MODE S CODE HEX'],\n",
       "      dtype='object')"
      ]
     },
     "execution_count": 14,
     "metadata": {},
     "output_type": "execute_result"
    }
   ],
   "source": [
    "import pandas as pd\n",
    "from pathlib import Path\n",
    "\n",
    "base = Path(\"/Users/andyburnett/Library/Mobile Documents/com~apple~CloudDocs/Desktop/X03.27.25/Coding_Practice/projects/faa_data\")\n",
    "\n",
    "input_file = base / \"faa_kit_data.xlsx\"\n",
    "output_file = base / \"kits.xlsx\"\n",
    "\n",
    "df = pd.read_excel(input_file)\n",
    "\n",
    "df.columns"
   ]
  },
  {
   "cell_type": "code",
   "execution_count": 15,
   "metadata": {},
   "outputs": [
    {
     "name": "stderr",
     "output_type": "stream",
     "text": [
      "/var/folders/z9/4yg2bxhd77z407m0mn8rmkdr0000gn/T/ipykernel_53407/1973155015.py:8: UserWarning: Could not infer format, so each element will be parsed individually, falling back to `dateutil`. To ensure parsing is consistent and as-expected, please specify a format.\n",
      "  df[col] = pd.to_datetime(df[col], errors='coerce')           # Convert to datetime\n",
      "/var/folders/z9/4yg2bxhd77z407m0mn8rmkdr0000gn/T/ipykernel_53407/1973155015.py:8: UserWarning: Could not infer format, so each element will be parsed individually, falling back to `dateutil`. To ensure parsing is consistent and as-expected, please specify a format.\n",
      "  df[col] = pd.to_datetime(df[col], errors='coerce')           # Convert to datetime\n",
      "/var/folders/z9/4yg2bxhd77z407m0mn8rmkdr0000gn/T/ipykernel_53407/1973155015.py:8: UserWarning: Could not infer format, so each element will be parsed individually, falling back to `dateutil`. To ensure parsing is consistent and as-expected, please specify a format.\n",
      "  df[col] = pd.to_datetime(df[col], errors='coerce')           # Convert to datetime\n",
      "/var/folders/z9/4yg2bxhd77z407m0mn8rmkdr0000gn/T/ipykernel_53407/1973155015.py:8: UserWarning: Could not infer format, so each element will be parsed individually, falling back to `dateutil`. To ensure parsing is consistent and as-expected, please specify a format.\n",
      "  df[col] = pd.to_datetime(df[col], errors='coerce')           # Convert to datetime\n"
     ]
    }
   ],
   "source": [
    "# Convert YEAR MFR to just the year (ensure it's formatted as a date)\n",
    "# df['YEAR MFR'] = pd.to_numeric(df['YEAR MFR'], errors='coerce').astype('Int64')\n",
    "\n",
    "# Convert other columns to datetime and format as mm/dd/yyyy\n",
    "date_columns = ['LAST ACTION DATE', 'CERT ISSUE DATE', 'AIR WORTH DATE', 'EXPIRATION DATE']\n",
    "\n",
    "for col in date_columns:\n",
    "    df[col] = pd.to_datetime(df[col], errors='coerce')           # Convert to datetime\n",
    "    df[col] = df[col].dt.strftime('%m/%d/%Y')                    # Format as mm/dd/yyyy"
   ]
  },
  {
   "cell_type": "code",
   "execution_count": 16,
   "metadata": {},
   "outputs": [],
   "source": [
    "# Define mapping for TYPE-ACFT to ACFTCAT\n",
    "acft_mapping = {\n",
    "    'O': 'Other',\n",
    "    '1': 'Glider',\n",
    "    '2': 'Balloon',\n",
    "    '3': 'Blimp/Dirigible',\n",
    "    '4': 'Fixed wing single engine',\n",
    "    '5': 'Fixed wing multi engine',\n",
    "    '6': 'Rotorcraft',\n",
    "    '7': 'Weight-shift-control',\n",
    "    '8': 'Powered Parachute',\n",
    "    '9': 'Gyroplane',\n",
    "    'H': 'Hybrid Lift'\n",
    "}\n",
    "\n",
    "# Create the ACFTCAT column based on mapping\n",
    "df['ACFTCAT'] = df['TYPE-ACFT'].astype(str).str.strip().str.upper().map(acft_mapping)\n",
    "\n",
    "# Fill unmapped values with \"Unknown\" if desired\n",
    "df['ACFTCAT'] = df['ACFTCAT'].fillna('Unknown')\n",
    "\n",
    "# Get current columns as a list\n",
    "cols = df.columns.tolist()\n",
    "# ----- Reposition the new column -----\n",
    "# Find the index of TYPE-ACFT\n",
    "type_index = cols.index('TYPE-ACFT')\n",
    "\n",
    "# Remove ACFTCAT from its current position if it's already in the list\n",
    "cols.remove('ACFTCAT')\n",
    "\n",
    "# Insert ACFTCAT right after TYPE-ACFT (position = type_index + 1)\n",
    "cols.insert(type_index + 1, 'ACFTCAT')\n",
    "\n",
    "# Reorder dataframe\n",
    "df = df[cols]"
   ]
  },
  {
   "cell_type": "code",
   "execution_count": 17,
   "metadata": {},
   "outputs": [],
   "source": [
    "# Define mapping for TYPE-ENG to ENGCAT\n",
    "eng_mapping = {\n",
    "    '0': 'None',\n",
    "    '1': 'Reciprocating',\n",
    "    '2': 'Turbo-prop',\n",
    "    '3': 'Turbo-shaft',\n",
    "    '4': 'Turbo-jet',\n",
    "    '5': 'Turbo-fan',\n",
    "    '6': 'Ramjet',\n",
    "    '7': '2 Cycle',\n",
    "    '8': '4 Cycle',\n",
    "    '9': 'Unknown',\n",
    "    '10': 'Electric',\n",
    "    '11': 'Rotary'\n",
    "}\n",
    "\n",
    "# Create the ENGCAT column based on mapping\n",
    "df['ENGCAT'] = df['TYPE-ENG'].astype(str).str.strip().str.upper().map(eng_mapping)\n",
    "\n",
    "# Fill unmapped values with \"Unknown\" if desired\n",
    "df['ENGCAT'] = df['ENGCAT'].fillna('Unknown')\n",
    "\n",
    "# Get current columns as a list\n",
    "cols = df.columns.tolist()\n",
    "# ----- Reposition the new column -----\n",
    "# Find the index of TYPE-ACFT\n",
    "type_index = cols.index('TYPE-ENG')\n",
    "\n",
    "# Remove ENGCAT from its current position if it's already in the list\n",
    "cols.remove('ENGCAT')\n",
    "\n",
    "# Insert ENGCAT right after TYPE-ACFT (position = type_index + 1)\n",
    "cols.insert(type_index + 1, 'ENGCAT')\n",
    "\n",
    "# Reorder dataframe\n",
    "df = df[cols]"
   ]
  },
  {
   "cell_type": "code",
   "execution_count": 18,
   "metadata": {},
   "outputs": [],
   "source": [
    "# Define mapping for AC-CAT to SURFCAT\n",
    "surf_mapping = {\n",
    "    '1': 'Land',\n",
    "    '2': 'Sea',\n",
    "    '3': 'Amphibian',\n",
    "}\n",
    "\n",
    "# Create the SURFCAT column based on mapping\n",
    "df['SURFCAT'] = df['AC-CAT'].astype(str).str.strip().str.upper().map(surf_mapping)\n",
    "\n",
    "# Fill unmapped values with \"Unknown\" if desired\n",
    "df['SURFCAT'] = df['SURFCAT'].fillna('Unknown')\n",
    "\n",
    "# Get current columns as a list\n",
    "cols = df.columns.tolist()\n",
    "# ----- Reposition the new column -----\n",
    "# Find the index of AC-CAT\n",
    "type_index = cols.index('AC-CAT')\n",
    "\n",
    "# Remove SURFCAT from its current position if it's already in the list\n",
    "cols.remove('SURFCAT')\n",
    "\n",
    "# Insert SURFCAT right after AC-CAT (position = type_index + 1)\n",
    "cols.insert(type_index + 1, 'SURFCAT')\n",
    "\n",
    "# Reorder dataframe\n",
    "df = df[cols]"
   ]
  },
  {
   "cell_type": "code",
   "execution_count": 19,
   "metadata": {},
   "outputs": [],
   "source": [
    "df.to_excel(output_file, index=False)"
   ]
  }
 ],
 "metadata": {
  "kernelspec": {
   "display_name": "Python 3",
   "language": "python",
   "name": "python3"
  },
  "language_info": {
   "codemirror_mode": {
    "name": "ipython",
    "version": 3
   },
   "file_extension": ".py",
   "mimetype": "text/x-python",
   "name": "python",
   "nbconvert_exporter": "python",
   "pygments_lexer": "ipython3",
   "version": "3.12.4"
  }
 },
 "nbformat": 4,
 "nbformat_minor": 2
}
