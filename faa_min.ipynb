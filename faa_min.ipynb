{
 "cells": [
  {
   "cell_type": "code",
   "execution_count": null,
   "metadata": {},
   "outputs": [
    {
     "name": "stderr",
     "output_type": "stream",
     "text": [
      "/var/folders/z9/4yg2bxhd77z407m0mn8rmkdr0000gn/T/ipykernel_97962/1643694773.py:11: DtypeWarning: Columns (36,37) have mixed types. Specify dtype option on import or set low_memory=False.\n",
      "  df = pd.read_csv(input_file)\n"
     ]
    },
    {
     "data": {
      "text/plain": [
       "Index(['N-NUMBER', 'SERIAL NUMBER', 'MFR MDL CODE', 'MFR', 'MODEL',\n",
       "       'TYPE-ACFT', 'NO-SEATS', 'AC-WEIGHT', 'SPEED', 'YEAR MFR', 'TYPE-ENG',\n",
       "       'AC-CAT', 'NO-ENG', 'ENG MFR MDL', 'TYPE REGISTRANT', 'NAME', 'STREET',\n",
       "       'STREET2', 'CITY', 'STATE', 'ZIP CODE', 'Column2', 'REGION', 'COUNTY',\n",
       "       'COUNTRY', 'LAST ACTION DATE', 'CERT ISSUE DATE', 'CERTIFICATION',\n",
       "       'TYPE AIRCRAFT', 'STATUS CODE', 'MODE S CODE', 'FRACT OWNER',\n",
       "       'AIR WORTH DATE', 'OTHER NAMES(1)', 'OTHER NAMES(2)', 'OTHER NAMES(3)',\n",
       "       'OTHER NAMES(4)', 'OTHER NAMES(5)', 'EXPIRATION DATE', 'UNIQUE ID',\n",
       "       'KIT MFR', ' KIT MODEL', 'MODE S CODE HEX', 'Column1'],\n",
       "      dtype='object')"
      ]
     },
     "execution_count": 161,
     "metadata": {},
     "output_type": "execute_result"
    }
   ],
   "source": [
    "import pandas as pd\n",
    "from pathlib import Path\n",
    "import pandas as pd\n",
    "\n",
    "base = Path(\"/Users/andyburnett/Library/Mobile Documents/com~apple~CloudDocs/Desktop/X03.27.25/Coding_Practice/projects/faa_data\")\n",
    "\n",
    "input_file = base / \"faa_min.csv\"\n",
    "output_file = base / \"faa_cln.xlsx\" # For examining full FAA dataset\n",
    "kit_output_file = base / \"faa_kit_data.xlsx\"  # Become input file for kits.ipynb\n",
    "\n",
    "df = pd.read_csv(input_file)\n",
    "\n",
    "df.columns\n"
   ]
  },
  {
   "cell_type": "code",
   "execution_count": 162,
   "metadata": {},
   "outputs": [
    {
     "data": {
      "text/html": [
       "<div>\n",
       "<style scoped>\n",
       "    .dataframe tbody tr th:only-of-type {\n",
       "        vertical-align: middle;\n",
       "    }\n",
       "\n",
       "    .dataframe tbody tr th {\n",
       "        vertical-align: top;\n",
       "    }\n",
       "\n",
       "    .dataframe thead th {\n",
       "        text-align: right;\n",
       "    }\n",
       "</style>\n",
       "<table border=\"1\" class=\"dataframe\">\n",
       "  <thead>\n",
       "    <tr style=\"text-align: right;\">\n",
       "      <th></th>\n",
       "      <th>N-NUMBER</th>\n",
       "      <th>SERIAL NUMBER</th>\n",
       "      <th>MFR MDL CODE</th>\n",
       "      <th>MFR</th>\n",
       "      <th>MODEL</th>\n",
       "      <th>TYPE-ACFT</th>\n",
       "      <th>NO-SEATS</th>\n",
       "      <th>AC-WEIGHT</th>\n",
       "      <th>SPEED</th>\n",
       "      <th>YEAR MFR</th>\n",
       "      <th>...</th>\n",
       "      <th>OTHER NAMES(1)</th>\n",
       "      <th>OTHER NAMES(2)</th>\n",
       "      <th>OTHER NAMES(3)</th>\n",
       "      <th>OTHER NAMES(4)</th>\n",
       "      <th>OTHER NAMES(5)</th>\n",
       "      <th>EXPIRATION DATE</th>\n",
       "      <th>UNIQUE ID</th>\n",
       "      <th>KIT MFR</th>\n",
       "      <th>KIT MODEL</th>\n",
       "      <th>MODE S CODE HEX</th>\n",
       "    </tr>\n",
       "  </thead>\n",
       "  <tbody>\n",
       "    <tr>\n",
       "      <th>0</th>\n",
       "      <td>4699T</td>\n",
       "      <td>18051399</td>\n",
       "      <td>130071T</td>\n",
       "      <td>BENSEN GYROPLANE</td>\n",
       "      <td>B-8MEJ</td>\n",
       "      <td>6</td>\n",
       "      <td>1</td>\n",
       "      <td>CLASS 1</td>\n",
       "      <td>45</td>\n",
       "      <td>1965.0</td>\n",
       "      <td>...</td>\n",
       "      <td>NaN</td>\n",
       "      <td>NaN</td>\n",
       "      <td>NaN</td>\n",
       "      <td>NaN</td>\n",
       "      <td>NaN</td>\n",
       "      <td>NaN</td>\n",
       "      <td>148078</td>\n",
       "      <td>NaN</td>\n",
       "      <td>NaN</td>\n",
       "      <td>A5BEAF</td>\n",
       "    </tr>\n",
       "    <tr>\n",
       "      <th>1</th>\n",
       "      <td>9789E</td>\n",
       "      <td>180-52289</td>\n",
       "      <td>191102</td>\n",
       "      <td>AERONCA</td>\n",
       "      <td>11AC</td>\n",
       "      <td>4</td>\n",
       "      <td>2</td>\n",
       "      <td>CLASS 1</td>\n",
       "      <td>75</td>\n",
       "      <td>1946.0</td>\n",
       "      <td>...</td>\n",
       "      <td>NaN</td>\n",
       "      <td>NaN</td>\n",
       "      <td>NaN</td>\n",
       "      <td>NaN</td>\n",
       "      <td>NaN</td>\n",
       "      <td>NaN</td>\n",
       "      <td>374298</td>\n",
       "      <td>NaN</td>\n",
       "      <td>NaN</td>\n",
       "      <td>ADA4F5</td>\n",
       "    </tr>\n",
       "    <tr>\n",
       "      <th>2</th>\n",
       "      <td>1376E</td>\n",
       "      <td>17254871</td>\n",
       "      <td>2110102</td>\n",
       "      <td>AERONCA</td>\n",
       "      <td>7AC</td>\n",
       "      <td>4</td>\n",
       "      <td>2</td>\n",
       "      <td>CLASS 1</td>\n",
       "      <td>90</td>\n",
       "      <td>1946.0</td>\n",
       "      <td>...</td>\n",
       "      <td>NaN</td>\n",
       "      <td>NaN</td>\n",
       "      <td>NaN</td>\n",
       "      <td>NaN</td>\n",
       "      <td>NaN</td>\n",
       "      <td>NaN</td>\n",
       "      <td>12078</td>\n",
       "      <td>NaN</td>\n",
       "      <td>NaN</td>\n",
       "      <td>A09861</td>\n",
       "    </tr>\n",
       "    <tr>\n",
       "      <th>3</th>\n",
       "      <td>63043</td>\n",
       "      <td>RX8-3072</td>\n",
       "      <td>2420222</td>\n",
       "      <td>CONSOLIDATED VULTEE</td>\n",
       "      <td>BT-13</td>\n",
       "      <td>4</td>\n",
       "      <td>2</td>\n",
       "      <td>CLASS 1</td>\n",
       "      <td>108</td>\n",
       "      <td>1942.0</td>\n",
       "      <td>...</td>\n",
       "      <td>NaN</td>\n",
       "      <td>NaN</td>\n",
       "      <td>NaN</td>\n",
       "      <td>NaN</td>\n",
       "      <td>NaN</td>\n",
       "      <td>NaN</td>\n",
       "      <td>224608</td>\n",
       "      <td>NaN</td>\n",
       "      <td>NaN</td>\n",
       "      <td>A840BC</td>\n",
       "    </tr>\n",
       "    <tr>\n",
       "      <th>4</th>\n",
       "      <td>9545C</td>\n",
       "      <td>22-6462</td>\n",
       "      <td>2421302</td>\n",
       "      <td>CONSOLIDATED VULTEE</td>\n",
       "      <td>PBY-6A</td>\n",
       "      <td>5</td>\n",
       "      <td>4</td>\n",
       "      <td>CLASS 3</td>\n",
       "      <td>127</td>\n",
       "      <td>NaN</td>\n",
       "      <td>...</td>\n",
       "      <td>NaN</td>\n",
       "      <td>NaN</td>\n",
       "      <td>NaN</td>\n",
       "      <td>NaN</td>\n",
       "      <td>NaN</td>\n",
       "      <td>NaN</td>\n",
       "      <td>366118</td>\n",
       "      <td>NaN</td>\n",
       "      <td>NaN</td>\n",
       "      <td>AD468D</td>\n",
       "    </tr>\n",
       "  </tbody>\n",
       "</table>\n",
       "<p>5 rows × 43 columns</p>\n",
       "</div>"
      ],
      "text/plain": [
       "  N-NUMBER SERIAL NUMBER MFR MDL CODE                             MFR  \\\n",
       "0    4699T      18051399      130071T  BENSEN GYROPLANE                 \n",
       "1    9789E     180-52289       191102  AERONCA                          \n",
       "2    1376E      17254871      2110102  AERONCA                          \n",
       "3    63043      RX8-3072      2420222  CONSOLIDATED VULTEE              \n",
       "4    9545C       22-6462      2421302  CONSOLIDATED VULTEE              \n",
       "\n",
       "                  MODEL  TYPE-ACFT  NO-SEATS AC-WEIGHT  SPEED  YEAR MFR  ...  \\\n",
       "0  B-8MEJ                        6         1   CLASS 1     45    1965.0  ...   \n",
       "1  11AC                          4         2   CLASS 1     75    1946.0  ...   \n",
       "2  7AC                           4         2   CLASS 1     90    1946.0  ...   \n",
       "3  BT-13                         4         2   CLASS 1    108    1942.0  ...   \n",
       "4  PBY-6A                        5         4   CLASS 3    127       NaN  ...   \n",
       "\n",
       "   OTHER NAMES(1)  OTHER NAMES(2)  OTHER NAMES(3)  OTHER NAMES(4)  \\\n",
       "0             NaN             NaN             NaN             NaN   \n",
       "1             NaN             NaN             NaN             NaN   \n",
       "2             NaN             NaN             NaN             NaN   \n",
       "3             NaN             NaN             NaN             NaN   \n",
       "4             NaN             NaN             NaN             NaN   \n",
       "\n",
       "   OTHER NAMES(5) EXPIRATION DATE UNIQUE ID KIT MFR  KIT MODEL MODE S CODE HEX  \n",
       "0             NaN             NaN    148078     NaN        NaN          A5BEAF  \n",
       "1             NaN             NaN    374298     NaN        NaN          ADA4F5  \n",
       "2             NaN             NaN     12078     NaN        NaN          A09861  \n",
       "3             NaN             NaN    224608     NaN        NaN          A840BC  \n",
       "4             NaN             NaN    366118     NaN        NaN          AD468D  \n",
       "\n",
       "[5 rows x 43 columns]"
      ]
     },
     "execution_count": 162,
     "metadata": {},
     "output_type": "execute_result"
    }
   ],
   "source": [
    "df.drop(columns=['Column1'], inplace=True)\n",
    "\n",
    "df.head()"
   ]
  },
  {
   "cell_type": "code",
   "execution_count": 163,
   "metadata": {},
   "outputs": [
    {
     "data": {
      "text/plain": [
       "Index(['N-NUMBER', 'SERIAL NUMBER', 'MFR MDL CODE', 'MFR', 'MODEL',\n",
       "       'TYPE-ACFT', 'NO-SEATS', 'AC-WEIGHT', 'SPEED', 'YEAR MFR', 'TYPE-ENG',\n",
       "       'AC-CAT', 'NO-ENG', 'ENG MFR MDL', 'TYPE REGISTRANT', 'NAME', 'STREET',\n",
       "       'STREET2', 'CITY', 'STATE', 'ZIP CODE', 'Column2', 'REGION', 'COUNTY',\n",
       "       'COUNTRY', 'LAST ACTION DATE', 'CERT ISSUE DATE', 'CERTIFICATION',\n",
       "       'TYPE AIRCRAFT', 'STATUS CODE', 'MODE S CODE', 'FRACT OWNER',\n",
       "       'AIR WORTH DATE', 'OTHER NAMES(1)', 'OTHER NAMES(2)', 'OTHER NAMES(3)',\n",
       "       'OTHER NAMES(4)', 'OTHER NAMES(5)', 'EXPIRATION DATE', 'UNIQUE ID',\n",
       "       'KIT MFR', ' KIT MODEL', 'MODE S CODE HEX'],\n",
       "      dtype='object')"
      ]
     },
     "execution_count": 163,
     "metadata": {},
     "output_type": "execute_result"
    }
   ],
   "source": [
    "df.columns"
   ]
  },
  {
   "cell_type": "code",
   "execution_count": 164,
   "metadata": {},
   "outputs": [
    {
     "name": "stdout",
     "output_type": "stream",
     "text": [
      "<bound method Series.unique of 0         US\n",
      "1         US\n",
      "2         US\n",
      "3         US\n",
      "4         US\n",
      "          ..\n",
      "301623    US\n",
      "301624    US\n",
      "301625    US\n",
      "301626    US\n",
      "301627    US\n",
      "Name: COUNTRY, Length: 301628, dtype: object>\n"
     ]
    }
   ],
   "source": [
    "df = df[df['COUNTRY'] == 'US']\n",
    "df.reset_index(drop=True, inplace=True)\n",
    "print(df['COUNTRY'].unique)"
   ]
  },
  {
   "cell_type": "code",
   "execution_count": 165,
   "metadata": {},
   "outputs": [
    {
     "data": {
      "text/plain": [
       "Index(['N-NUMBER', 'SERIAL NUMBER', 'MFR MDL CODE', 'MFR', 'MODEL',\n",
       "       'TYPE-ACFT', 'NO-SEATS', 'AC-WEIGHT', 'SPEED', 'YEAR MFR', 'TYPE-ENG',\n",
       "       'AC-CAT', 'NO-ENG', 'ENG MFR MDL', 'TYPE REGISTRANT', 'NAME', 'STREET',\n",
       "       'STREET2', 'CITY', 'STATE', 'ZIP CODE', 'Column2', 'REGION', 'COUNTY',\n",
       "       'COUNTRY', 'LAST ACTION DATE', 'CERT ISSUE DATE', 'CERTIFICATION',\n",
       "       'TYPE AIRCRAFT', 'STATUS CODE', 'MODE S CODE', 'FRACT OWNER',\n",
       "       'AIR WORTH DATE', 'OTHER NAMES(1)', 'OTHER NAMES(2)', 'OTHER NAMES(3)',\n",
       "       'OTHER NAMES(4)', 'OTHER NAMES(5)', 'EXPIRATION DATE', 'UNIQUE ID',\n",
       "       'KIT MFR', ' KIT MODEL', 'MODE S CODE HEX'],\n",
       "      dtype='object')"
      ]
     },
     "execution_count": 165,
     "metadata": {},
     "output_type": "execute_result"
    }
   ],
   "source": [
    "df.columns"
   ]
  },
  {
   "cell_type": "code",
   "execution_count": 166,
   "metadata": {},
   "outputs": [
    {
     "data": {
      "text/plain": [
       "Index(['N-NUMBER', 'SERIAL NUMBER', 'MFR MDL CODE', 'MFR', 'MODEL',\n",
       "       'TYPE-ACFT', 'NO-SEATS', 'AC-WEIGHT', 'SPEED', 'YEAR MFR', 'TYPE-ENG',\n",
       "       'AC-CAT', 'NO-ENG', 'ENG MFR MDL', 'TYPE REGISTRANT', 'NAME', 'STREET',\n",
       "       'STREET2', 'CITY', 'STATE', 'ZIP_MIN', 'REGION', 'COUNTY', 'COUNTRY',\n",
       "       'LAST ACTION DATE', 'CERT ISSUE DATE', 'CERTIFICATION', 'TYPE AIRCRAFT',\n",
       "       'STATUS CODE', 'MODE S CODE', 'FRACT OWNER', 'AIR WORTH DATE',\n",
       "       'OTHER NAMES(1)', 'OTHER NAMES(2)', 'OTHER NAMES(3)', 'OTHER NAMES(4)',\n",
       "       'OTHER NAMES(5)', 'EXPIRATION DATE', 'UNIQUE ID', 'KITMFG', 'KITMDL',\n",
       "       'MODE S CODE HEX'],\n",
       "      dtype='object')"
      ]
     },
     "execution_count": 166,
     "metadata": {},
     "output_type": "execute_result"
    }
   ],
   "source": [
    "\n",
    "df.rename(columns={'Column2': 'ZIP_MIN'}, inplace=True)\n",
    "df.rename(columns={'KIT MFR': 'KITMFG'}, inplace=True)\n",
    "df.rename(columns={' KIT MODEL': 'KITMDL'}, inplace=True)\n",
    "df.drop(columns=['ZIP CODE'], inplace=True)\n",
    "df.columns\n"
   ]
  },
  {
   "cell_type": "code",
   "execution_count": 167,
   "metadata": {},
   "outputs": [
    {
     "data": {
      "text/plain": [
       "1075"
      ]
     },
     "execution_count": 167,
     "metadata": {},
     "output_type": "execute_result"
    }
   ],
   "source": [
    "df['KITMDL'].nunique()"
   ]
  },
  {
   "cell_type": "code",
   "execution_count": 168,
   "metadata": {},
   "outputs": [
    {
     "data": {
      "text/plain": [
       "538"
      ]
     },
     "execution_count": 168,
     "metadata": {},
     "output_type": "execute_result"
    }
   ],
   "source": [
    "df['KITMFG'].nunique()"
   ]
  },
  {
   "cell_type": "code",
   "execution_count": 169,
   "metadata": {},
   "outputs": [
    {
     "name": "stdout",
     "output_type": "stream",
     "text": [
      "Cleaned dataset saved to: /Users/andyburnett/Library/Mobile Documents/com~apple~CloudDocs/Desktop/X03.27.25/Coding_Practice/projects/faa_data/faa_cln.xlsx\n",
      "KIT data saved to: /Users/andyburnett/Library/Mobile Documents/com~apple~CloudDocs/Desktop/X03.27.25/Coding_Practice/projects/faa_data/faa_kit_data.xlsx\n"
     ]
    }
   ],
   "source": [
    "# ✅ Create KIT-specific dataset (only rows with KITMFG or KITMDL filled)\n",
    "kit_df = df[(df['KITMFG'].notna()) | (df['KITMDL'].notna())].copy()\n",
    "\n",
    "# Reset index for neatness\n",
    "kit_df.reset_index(drop=True, inplace=True)\n",
    "\n",
    "# Save to Excel\n",
    "kit_df.to_excel(kit_output_file, index=False)\n",
    "\n",
    "print(f\"Cleaned dataset saved to: {output_file}\")\n",
    "print(f\"KIT data saved to: {kit_output_file}\")"
   ]
  }
 ],
 "metadata": {
  "kernelspec": {
   "display_name": "Python 3",
   "language": "python",
   "name": "python3"
  },
  "language_info": {
   "codemirror_mode": {
    "name": "ipython",
    "version": 3
   },
   "file_extension": ".py",
   "mimetype": "text/x-python",
   "name": "python",
   "nbconvert_exporter": "python",
   "pygments_lexer": "ipython3",
   "version": "3.12.4"
  }
 },
 "nbformat": 4,
 "nbformat_minor": 2
}
